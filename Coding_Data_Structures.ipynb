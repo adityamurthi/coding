{
 "cells": [
  {
   "cell_type": "markdown",
   "metadata": {},
   "source": [
    "# Data Structures \n",
    "We discuss the main types of data structures that are commonly used in computer science.\n",
    "* Stacks\n",
    "* Queues\n",
    "* Dequeues\n",
    "* Linked Lists"
   ]
  },
  {
   "cell_type": "code",
   "execution_count": 2,
   "metadata": {},
   "outputs": [],
   "source": [
    "from fractions import Fraction\n",
    "import random\n",
    "import re\n",
    "from sys import exit"
   ]
  },
  {
   "cell_type": "code",
   "execution_count": 3,
   "metadata": {},
   "outputs": [
    {
     "name": "stdout",
     "output_type": "stream",
     "text": [
      "7 5\n"
     ]
    }
   ],
   "source": [
    "##1. Two number sum\n",
    "nums = [4,1,5,7]\n",
    "s = 12\n",
    "ht = []##Just a hash table (list) that contains the original values of the nums array. Time complexity is  = O(n)\n",
    "ht.append(nums[0])\n",
    "for num in nums:\n",
    "    b = (s-num)\n",
    "    if b in ht:\n",
    "        print(num, b)\n",
    "    else:\n",
    "        ht.append(num)    "
   ]
  },
  {
   "cell_type": "markdown",
   "metadata": {},
   "source": [
    "## 1. Stacks\n",
    "This section outlines the `Stack` data structure in Python. Specifically, it explains how to create a stack using the `list`data structure. It also outlines examples of problems that can easily be solved "
   ]
  },
  {
   "cell_type": "code",
   "execution_count": 4,
   "metadata": {},
   "outputs": [],
   "source": [
    "##1. Implementation of a Stack class using Python's list data structure\n",
    "class Stack(object):\n",
    "    def __init__(self):\n",
    "        self.items = []\n",
    "\n",
    "    def isEmpty(self):\n",
    "        return self.items == []\n",
    "\n",
    "    def push(self, item):\n",
    "        self.items.insert(0,item) ##head of stack is element '0'\n",
    "\n",
    "    def pop(self):\n",
    "        return self.items.pop(0)\n",
    "\n",
    "    def peek(self):\n",
    "        return self.items[0]\n",
    "\n",
    "    def size(self):\n",
    "        return len(self.items)"
   ]
  },
  {
   "cell_type": "code",
   "execution_count": 5,
   "metadata": {},
   "outputs": [
    {
     "name": "stdout",
     "output_type": "stream",
     "text": [
      "['dog', 4]\n",
      "3\n",
      "False\n",
      "8.4\n",
      "True\n",
      "2\n"
     ]
    }
   ],
   "source": [
    "s = Stack()\n",
    "s.push(4)\n",
    "s.push(\"dog\")\n",
    "print(s.items)\n",
    "s.peek()\n",
    "s.push(True)\n",
    "print(s.size())\n",
    "print(s.isEmpty())\n",
    "s.push(8.4)\n",
    "print(s.pop())\n",
    "print(s.pop())\n",
    "print(s.size())"
   ]
  },
  {
   "cell_type": "markdown",
   "metadata": {},
   "source": [
    "### 1.1 String reversal "
   ]
  },
  {
   "cell_type": "code",
   "execution_count": 6,
   "metadata": {},
   "outputs": [],
   "source": [
    "##2. Write a function revstring(str) to reverse the order of a string using Stack\n",
    "def revstring(string):\n",
    "    s = Stack()\n",
    "    for i in string:\n",
    "        s.push(i)\n",
    "    print(s.items)\n",
    "    rs =''\n",
    "    while len(s.items) !=0:\n",
    "        rs += s.pop()\n",
    "    return rs"
   ]
  },
  {
   "cell_type": "code",
   "execution_count": 7,
   "metadata": {},
   "outputs": [
    {
     "name": "stdout",
     "output_type": "stream",
     "text": [
      "['e', 'l', 'p', 'p', 'a']\n"
     ]
    },
    {
     "data": {
      "text/plain": [
       "'elppa'"
      ]
     },
     "execution_count": 7,
     "metadata": {},
     "output_type": "execute_result"
    }
   ],
   "source": [
    "x = 'apple'\n",
    "revstring(x)"
   ]
  },
  {
   "cell_type": "markdown",
   "metadata": {},
   "source": [
    "### 1.2 Balancing *ANY* type of parantheses expressions using Stacks"
   ]
  },
  {
   "cell_type": "code",
   "execution_count": 8,
   "metadata": {},
   "outputs": [],
   "source": [
    "##Checking to see if paranthesis are balanced (in an equation say)\n",
    "def balance(stringblock):\n",
    "    balance = True\n",
    "    index = 0\n",
    "    s = Stack()\n",
    "    while index < len(stringblock) and balance:\n",
    "        if stringblock[index] == '(':\n",
    "            s.push(stringblock[index])\n",
    "        else:\n",
    "            if s.isEmpty():\n",
    "                balance = False\n",
    "            else:\n",
    "                s.pop()\n",
    "        index = index+ 1\n",
    "    \n",
    "    if balance and s.isEmpty():\n",
    "         return True\n",
    "    else:\n",
    "        return False"
   ]
  },
  {
   "cell_type": "code",
   "execution_count": 9,
   "metadata": {},
   "outputs": [
    {
     "data": {
      "text/plain": [
       "False"
      ]
     },
     "execution_count": 9,
     "metadata": {},
     "output_type": "execute_result"
    }
   ],
   "source": [
    "balance('()(')"
   ]
  },
  {
   "cell_type": "code",
   "execution_count": 10,
   "metadata": {},
   "outputs": [],
   "source": [
    "##Balance strings for any kind of notations [], {}, ()\n",
    "def parChecker(symbolString):\n",
    "    s = Stack()\n",
    "    balanced = True\n",
    "    index = 0\n",
    "    while index < len(symbolString) and balanced:\n",
    "        symbol = symbolString[index]\n",
    "        if symbol in \"([{\":\n",
    "            s.push(symbol)\n",
    "        else:\n",
    "            if s.isEmpty():\n",
    "                balanced = False\n",
    "            else:\n",
    "                top = s.pop()\n",
    "                ##Need to check if the symbol at the top of the stack \n",
    "                ##matches its corresponding closing symbol\n",
    "                if not matches(top,symbol):\n",
    "                    balanced = False\n",
    "        print(s.items)\n",
    "        index = index + 1\n",
    "    if balanced and s.isEmpty():\n",
    "        return True\n",
    "    else:\n",
    "        return False\n",
    "\n",
    "def matches(open,close):\n",
    "    opens = \"([{\"\n",
    "    closers = \")]}\"##NOTE: the closing sequence is just the opening sequence \"inside out\"\n",
    "    return opens.index(open) == closers.index(close)\n"
   ]
  },
  {
   "cell_type": "code",
   "execution_count": 11,
   "metadata": {},
   "outputs": [
    {
     "name": "stdout",
     "output_type": "stream",
     "text": [
      "['{']\n",
      "['(', '{']\n",
      "['{', '(', '{']\n",
      "['(', '{', '(', '{']\n",
      "['[', '(', '{', '(', '{']\n",
      "['(', '{', '(', '{']\n",
      "['[', '(', '{', '(', '{']\n",
      "['(', '{', '(', '{']\n",
      "['{', '(', '{']\n",
      "['(', '{']\n",
      "['(', '(', '{']\n",
      "['(', '{']\n",
      "['{']\n",
      "False\n"
     ]
    }
   ],
   "source": [
    "print(parChecker('{({([][])}()}'))"
   ]
  },
  {
   "cell_type": "markdown",
   "metadata": {},
   "source": [
    "### 1.3 Converting a decimal integer to it's corresponding *base* digit using Stacks"
   ]
  },
  {
   "cell_type": "code",
   "execution_count": 12,
   "metadata": {},
   "outputs": [],
   "source": [
    "##Converting an integer into its corresponding binary notation: Divide by 2. \n",
    "##Stacks are appropriate data structures to solve this problem because we can use\n",
    "##them to keep track of the remainder when an integer is continously divided by\n",
    "##\n",
    "def int_to_binary(number):\n",
    "    s = Stack()\n",
    "    quo = 1\n",
    "    while quo > 0:\n",
    "        quo = number // 2##Gives the quotient\n",
    "        rem = number % 2# Provides the remainder\n",
    "        s.push(rem)\n",
    "        number = quo\n",
    "    ##Store the binary representation in a string and return as an int\n",
    "    num = ''\n",
    "    for _ in range(len(s.items)):\n",
    "        num += str(s.pop())##Get the binary representation vy popping the stack.\n",
    "    return int(num)"
   ]
  },
  {
   "cell_type": "code",
   "execution_count": 13,
   "metadata": {},
   "outputs": [
    {
     "name": "stdout",
     "output_type": "stream",
     "text": [
      "11101001\n"
     ]
    }
   ],
   "source": [
    "print(int_to_binary(233))"
   ]
  },
  {
   "cell_type": "code",
   "execution_count": 14,
   "metadata": {},
   "outputs": [],
   "source": [
    "##Conversion of decimal number to any base (2-16). Only integer input accepted\n",
    "def baseConverter(decNumber,base):\n",
    "    digits = \"0123456789ABCDEF\"\n",
    "\n",
    "    remstack = Stack()\n",
    "\n",
    "    while decNumber > 0:\n",
    "        rem = decNumber % base\n",
    "        remstack.push(rem)\n",
    "        decNumber = decNumber // base\n",
    "\n",
    "    newString = \"\"\n",
    "    while not remstack.isEmpty():\n",
    "        newString = newString + digits[remstack.pop()]\n",
    "\n",
    "    return newString"
   ]
  },
  {
   "cell_type": "code",
   "execution_count": 15,
   "metadata": {},
   "outputs": [
    {
     "name": "stdout",
     "output_type": "stream",
     "text": [
      "221\n",
      "11010\n"
     ]
    }
   ],
   "source": [
    "print(baseConverter(25,3))\n",
    "print(baseConverter(26,2))"
   ]
  },
  {
   "cell_type": "markdown",
   "metadata": {},
   "source": [
    "### 1.4 Converting an *infix* expression to a *postfix* expression using Stacks\n",
    "An infix expression can be written as $(A+B)\\times C$ wherein the operators $+,\\times$ are *between* two operands and hence the name *infix* expression. The corresponding *postfix* representation of this expression is $A~B~+~C~\\times$. This is because the $+$ operator in the parantheses takes precedence over the operator outside it. If the expression were, $A+B\\times C$ then the corresponding postfix expression would be $A~B~C~\\times~+$ because multiplication takes precedence over addition usually."
   ]
  },
  {
   "cell_type": "code",
   "execution_count": 16,
   "metadata": {},
   "outputs": [],
   "source": [
    "def infixtopostfix(tokenString):\n",
    "    prec = {}\n",
    "    prec[\"/\"] = 3\n",
    "    prec[\"*\"] = 3\n",
    "    prec[\"+\"] = 2\n",
    "    prec[\"-\"] = 2\n",
    "    prec[\"(\"] = 1\n",
    "    s  = Stack()\n",
    "    output = []\n",
    "    \n",
    "    ##Use the regex module to split the expression into a list containing individual elements\n",
    "    number_or_symbol = re.compile('(\\d+|[^ 0-9])')##Need to understand what this means ?\n",
    "    tokenList = re.findall(number_or_symbol, tokenString)\n",
    "    ##Assumes that the tokenString provided is appropriately \"white\" spaced so that split works\n",
    "    ##the way it is supposed to work. If the tokenString is not appropriately \"white\" spaced, then this\n",
    "    ##technique will not work. So we check to see if the list produced as a result of the split operation\n",
    "    ##is of length 1\n",
    "    #tokenList = tokenString.split()\n",
    "    #print(tokenList)\n",
    "    if len(tokenList) == 1:\n",
    "        print('Cannot complete this operation! Please use appropriate white spaces between elements')\n",
    "        return tokenString\n",
    "    else:\n",
    "        for token in tokenList:\n",
    "            ##If the token is an upper case alphabet or number between 0-9 then it is appended to the \n",
    "            ##output list. This implementation does NOT address lower case letters or numbers > 9. So\n",
    "            ##it will not work if either of the above are true. \n",
    "            if token in 'ABCDEFGHIJKLMNOPQRSTUVWXYZ' or token.upper() in 'ABCDEFGHIJKLMNOPQRSTUVWXYZ' or token in '0123456789': \n",
    "                output.append(token)\n",
    "            elif token == '(':\n",
    "                s.push(token)\n",
    "            elif token == ')':\n",
    "                toptoken = s.pop()\n",
    "                while toptoken != '(':\n",
    "                    output.append(toptoken)\n",
    "                    toptoken = s.pop()\n",
    "            else:\n",
    "                ##Check to see if the token is an integer\n",
    "                try:\n",
    "                    int(token)\n",
    "                    output.append(token)\n",
    "                except ValueError:##might be an operator\n",
    "                    ##If the current token (operator) has lower precedence than the operator that is currently \n",
    "                    ##at the head of the stack, then push that operator (from the stack) onto the output list\n",
    "                    #first before pushing the current operator.\n",
    "                    while not s.isEmpty() and prec[s.peek()] >= prec[token]:\n",
    "                        output.append(s.pop())\n",
    "                    s.push(token)\n",
    "\n",
    "        while not s.isEmpty():\n",
    "            output.append(s.pop())\n",
    "\n",
    "        return \" \".join(output)"
   ]
  },
  {
   "cell_type": "code",
   "execution_count": 17,
   "metadata": {},
   "outputs": [
    {
     "name": "stdout",
     "output_type": "stream",
     "text": [
      "10 3 5 * 16 4 - / +\n"
     ]
    }
   ],
   "source": [
    "#print(infixtopostfix('( A + B ) * C'))\n",
    "print(infixtopostfix('10 + 3 * 5 / (16 - 4 )'))"
   ]
  },
  {
   "cell_type": "code",
   "execution_count": 22,
   "metadata": {},
   "outputs": [],
   "source": [
    "##Postfix expression evaluator\n",
    "def postfixEval(postfixString):\n",
    "    \n",
    "    ##First instantiate the stack\n",
    "    operandStack = Stack()\n",
    "    \n",
    "    ##Convert the postfix string into a list using regex\n",
    "    number_or_symbol = re.compile('(\\d+|[^ 0-9])')\n",
    "    tokenList = re.findall(number_or_symbol, postfixString)\n",
    "    print(tokenList)\n",
    "    for token in tokenList:\n",
    "        ##If token is an operand then add it to the stack\n",
    "        try:\n",
    "            val = int(token)\n",
    "            operandStack.push(val)\n",
    "        except ValueError:\n",
    "            ##It is an operator\n",
    "            if len(operandStack.items) >= 2:\n",
    "                val2 = operandStack.pop()\n",
    "                val1 = operandStack.pop()\n",
    "                operandStack.push(doMath(token, val1, val2))\n",
    "    \n",
    "    return operandStack.pop()\n",
    "            \n",
    "def doMath(op, op1, op2):\n",
    "    if op == \"*\":\n",
    "        return op1 * op2\n",
    "    elif op == \"/\":\n",
    "        return op1 / op2\n",
    "    elif op == \"+\":\n",
    "        return op1 + op2\n",
    "    else:\n",
    "        return op1 - op2"
   ]
  },
  {
   "cell_type": "code",
   "execution_count": 23,
   "metadata": {},
   "outputs": [
    {
     "name": "stdout",
     "output_type": "stream",
     "text": [
      "['10', '3', '5', '*', '16', '4', '-', '/', '+']\n",
      "11.25\n"
     ]
    }
   ],
   "source": [
    "print(postfixEval('10 3 5 * 16 4 - / +'))"
   ]
  },
  {
   "cell_type": "code",
   "execution_count": 24,
   "metadata": {},
   "outputs": [
    {
     "name": "stdout",
     "output_type": "stream",
     "text": [
      "['10', '3', '5', '*', '16', '4', '-', '/', '+']\n",
      "11.25\n"
     ]
    }
   ],
   "source": [
    "##Combine the infix-to-postfix converter and the postfix evaluator into a calculator that can be used to\n",
    "##evaluate any expression.\n",
    "exp = '10 + 3 * 5 / (16 - 4 )'\n",
    "postfix = infixtopostfix(exp)\n",
    "val = postfixEval(postfix)\n",
    "print(val)"
   ]
  },
  {
   "cell_type": "code",
   "execution_count": 25,
   "metadata": {},
   "outputs": [],
   "source": [
    "##Practice problems\n",
    "class MinStack:\n",
    "\n",
    "    def __init__(self):\n",
    "        \"\"\"\n",
    "        initialize your data structure here.\n",
    "        \"\"\"\n",
    "        self.items = []\n",
    "        \n",
    "    def push(self, x):\n",
    "        return self.items.append(x)\n",
    "        \n",
    "\n",
    "    def pop(self):\n",
    "        return self.items.pop()\n",
    "\n",
    "    def top(self):\n",
    "        return self.items[0]\n",
    "\n",
    "    def getMin(self) -> int:\n",
    "        return min(self.items)"
   ]
  },
  {
   "cell_type": "code",
   "execution_count": 26,
   "metadata": {},
   "outputs": [
    {
     "name": "stdout",
     "output_type": "stream",
     "text": [
      "-3\n",
      "-2\n",
      "-2\n"
     ]
    }
   ],
   "source": [
    "obj = MinStack()\n",
    "obj.push(-2)\n",
    "obj.push(0)\n",
    "obj.push(-3)\n",
    "print(obj.getMin())\n",
    "obj.pop()\n",
    "print(obj.top())\n",
    "print(obj.getMin())"
   ]
  },
  {
   "cell_type": "code",
   "execution_count": 27,
   "metadata": {},
   "outputs": [],
   "source": [
    "##2. Loading an array using Stack operations: Time complexity worst case: O(n)\n",
    "def buildArray(target, n):\n",
    "    arr = []\n",
    "    for l in range(1,n+1):\n",
    "        if l in target:\n",
    "            arr.append(l)\n",
    "            target.pop(0)\n",
    "            if target == []:\n",
    "                return arr\n",
    "        else:\n",
    "            arr.append(l)\n",
    "            arr.pop()\n",
    "    return arr"
   ]
  },
  {
   "cell_type": "code",
   "execution_count": 28,
   "metadata": {},
   "outputs": [
    {
     "name": "stdout",
     "output_type": "stream",
     "text": [
      "[2, 3, 4]\n"
     ]
    }
   ],
   "source": [
    "print(buildArray([2,3,4],10))"
   ]
  },
  {
   "cell_type": "code",
   "execution_count": 29,
   "metadata": {},
   "outputs": [],
   "source": [
    "##3. Build a Stack class with the following operations:\n",
    "class CustomStack:\n",
    "\n",
    "    def __init__(self, maxSize):\n",
    "        \n",
    "        self.maxSize = maxSize\n",
    "        self.items = []\n",
    "        \n",
    "    def push(self, x):\n",
    "        if len(self.items)< self.maxSize:\n",
    "            return self.items.append(x)\n",
    "            \n",
    "    def pop(self):\n",
    "        if self.items != []:\n",
    "            return self.items.pop()\n",
    "        else:\n",
    "            return -1\n",
    "\n",
    "    def increment(self, k, val):\n",
    "        if k < len(self.items):\n",
    "            for i in range(k):\n",
    "                self.items[i] += val \n",
    "        else:\n",
    "            for i in range(len(self.items)):\n",
    "                self.items[i] += val\n",
    "        return self.items\n",
    "        "
   ]
  },
  {
   "cell_type": "code",
   "execution_count": 30,
   "metadata": {},
   "outputs": [
    {
     "name": "stdout",
     "output_type": "stream",
     "text": [
      "[2, 3, 4]\n"
     ]
    },
    {
     "data": {
      "text/plain": [
       "[4, 5]"
      ]
     },
     "execution_count": 30,
     "metadata": {},
     "output_type": "execute_result"
    }
   ],
   "source": [
    "maxSize=3\n",
    "k=2\n",
    "val=2\n",
    "obj = CustomStack(maxSize)\n",
    "obj.push(2)\n",
    "obj.push(3)\n",
    "obj.push(4)\n",
    "obj.push(5)\n",
    "print(obj.items)\n",
    "obj.pop()\n",
    "obj.increment(k,val)"
   ]
  },
  {
   "cell_type": "code",
   "execution_count": 31,
   "metadata": {},
   "outputs": [],
   "source": [
    "##4. Gas Station: How will I solve this using a queue ?\n",
    "##gas  = [2,3,4]\n",
    "#cost = [3,4,3]\n",
    "##Time complexity: worst case O(n^2)\n",
    "def canCompleteCircuit(gas, cost):\n",
    "    n = len(gas)\n",
    "    tank = 0\n",
    "    i = 0\n",
    "    j = 0\n",
    "    while j < n:\n",
    "        tank += gas[i]\n",
    "        if tank >= cost[i]: \n",
    "            tank -= cost[i]\n",
    "            if i == n-1:\n",
    "                i = 0\n",
    "            else:\n",
    "                i += 1\n",
    "            if tank == 0 and j == n-1:\n",
    "                return i\n",
    "            j += 1\n",
    "        else:\n",
    "            #print(\"Cannot start at station\", i)\n",
    "            if j == n-1:\n",
    "                return -1\n",
    "            else:\n",
    "                j = 0\n",
    "                tank = 0\n",
    "                if i == n-1:\n",
    "                    i = 0\n",
    "                else:\n",
    "                    i +=1\n",
    "            "
   ]
  },
  {
   "cell_type": "code",
   "execution_count": 32,
   "metadata": {},
   "outputs": [
    {
     "name": "stdout",
     "output_type": "stream",
     "text": [
      "3\n"
     ]
    }
   ],
   "source": [
    "gas  = [1,2,3,4,5]\n",
    "cost = [3,2,5,4,1]\n",
    "print(canCompleteCircuit(gas, cost))"
   ]
  },
  {
   "cell_type": "code",
   "execution_count": 33,
   "metadata": {},
   "outputs": [],
   "source": [
    "class GasStation:\n",
    "    \n",
    "    def __init__(self, gas, cost):\n",
    "        self.gas = gas\n",
    "        self.cost = cost\n",
    "\n",
    "def completeCircuit(arr):\n",
    "\n",
    "    ##Initialize the indices of the start and end positions\n",
    "    start = 0\n",
    "    end = 1\n",
    "    n = len(arr)\n",
    "    current_gas = arr[start].gas - arr[start].cost\n",
    "\n",
    "    while (end != start) or (current_gas < 0):\n",
    "\n",
    "        while current_gas < 0 and start != end:\n",
    "            current_gas -= arr[start].gas - arr[start].cost\n",
    "            start = (start + 1)%n\n",
    "\n",
    "            if start == 0: #if 0 is being considered as start again, then no possible solution.\n",
    "                return -1\n",
    "\n",
    "        current_gas += arr[end].gas - arr[end].cost \n",
    "        end = (end+1)%n\n",
    "\n",
    "    return start "
   ]
  },
  {
   "cell_type": "code",
   "execution_count": 34,
   "metadata": {},
   "outputs": [
    {
     "name": "stdout",
     "output_type": "stream",
     "text": [
      "3\n"
     ]
    }
   ],
   "source": [
    "##Order of time complexity is O(n)\n",
    "arr   = [GasStation(gas[i], cost[i]) for i in range(len(gas))]\n",
    "start = completeCircuit(arr)\n",
    "print(start)"
   ]
  },
  {
   "cell_type": "markdown",
   "metadata": {},
   "source": [
    "## 2. Queues \n",
    "\n",
    "They are a type of ordered collection of items, wherein an item enters at one end of the collection called \"rear\" and existing items in the collection exit at the other end called \"front\". An new item which is added has to wait for all other items that were added *before* it to exit the collection. This type of data process that a **queue** executes is called **FIFO** or First In First Out. "
   ]
  },
  {
   "cell_type": "code",
   "execution_count": 35,
   "metadata": {},
   "outputs": [],
   "source": [
    "class Queue:\n",
    "    \n",
    "    def __init__(self):\n",
    "        self.items = []\n",
    "    \n",
    "    ##Time complexity=O(n) because you have to \"move\" n elements to insert a new one into the zeroth position. \n",
    "    ##This is the \"rear\" of the queue (front of the list)\n",
    "    def enqueue(self, item):\n",
    "        self.items.insert(0,item)\n",
    "    ##Time complexity: O(1) since you only have to \"pop\" ONE element (the last one in the list here).\n",
    "    ##This is the front of the queue (\"back\" of the list)\n",
    "    def dequeue(self):\n",
    "        return self.items.pop()\n",
    "    \n",
    "    def isEmpty(self):\n",
    "        return self.items == []\n",
    "    \n",
    "    def size(self):\n",
    "        return len(self.items)"
   ]
  },
  {
   "cell_type": "code",
   "execution_count": 36,
   "metadata": {},
   "outputs": [
    {
     "name": "stdout",
     "output_type": "stream",
     "text": [
      "True\n",
      "3\n",
      "False\n",
      "4\n",
      "dog\n",
      "2\n",
      "[8.4, True]\n"
     ]
    }
   ],
   "source": [
    "q=Queue()\n",
    "print(q.isEmpty())\n",
    "q.enqueue(4)\n",
    "q.enqueue('dog')\n",
    "q.enqueue(True)\n",
    "print(q.size())\n",
    "print(q.isEmpty())\n",
    "q.enqueue(8.4)\n",
    "print(q.dequeue())\n",
    "print(q.dequeue())\n",
    "print(q.size())\n",
    "print(q.items)"
   ]
  },
  {
   "cell_type": "markdown",
   "metadata": {},
   "source": [
    "In the above implementation of the Queue, the \"rear\" of the queue is at the beginning of the list while the \"front\" of the queue is at the end of the list. If we were to switch this around, that is the \"rear\", where items enter the queue, is at the *end* of the list, then we would so something like what is described below."
   ]
  },
  {
   "cell_type": "code",
   "execution_count": 37,
   "metadata": {},
   "outputs": [],
   "source": [
    "class QueueR:\n",
    "    \n",
    "    def __init__(self):\n",
    "        self.items = []\n",
    "    \n",
    "    ##Time complexity=O(n) because you have to traverse (n-i) positions to put an item into the ith position. \n",
    "    ##This is the \"front\" of the queue (front of the list)\n",
    "    def enqueue(self, item):\n",
    "        self.items.append(item)\n",
    "    ##Time complexity: O(1) since you only have to \"pop\" ONE element (the first one in the list here).\n",
    "    ##This is the \"rear\" of the queue (\"back\" of the list)\n",
    "    def dequeue(self):\n",
    "        return self.items.pop(0)\n",
    "    \n",
    "    def isEmpty(self):\n",
    "        return self.items == []\n",
    "    \n",
    "    def size(self):\n",
    "        return len(self.items)\n",
    "    "
   ]
  },
  {
   "cell_type": "code",
   "execution_count": 38,
   "metadata": {},
   "outputs": [
    {
     "name": "stdout",
     "output_type": "stream",
     "text": [
      "True\n",
      "3\n",
      "False\n",
      "4\n",
      "dog\n",
      "2\n",
      "[True, 8.4]\n"
     ]
    }
   ],
   "source": [
    "qr=QueueR()\n",
    "print(qr.isEmpty())\n",
    "qr.enqueue(4)\n",
    "qr.enqueue('dog')\n",
    "qr.enqueue(True)\n",
    "print(qr.size())\n",
    "print(qr.isEmpty())\n",
    "qr.enqueue(8.4)\n",
    "print(qr.dequeue())\n",
    "print(qr.dequeue())\n",
    "print(qr.size())\n",
    "print(qr.items)"
   ]
  },
  {
   "cell_type": "markdown",
   "metadata": {},
   "source": [
    "### Problem 1: The musical chairs game: Keep passing the parcel till music stops. \n",
    "\n",
    "In our case, we use queues to load the contestants into the queue and then simultaneously dequeue and enqueue each person for \"num\" iterations after which the person at the \"front\" of the queue is removed permanently. We continue to do this till there is ONLY ONE person left."
   ]
  },
  {
   "cell_type": "code",
   "execution_count": 39,
   "metadata": {},
   "outputs": [],
   "source": [
    "def hot_potatoes(listofNames, num):\n",
    "    \n",
    "    q = Queue()\n",
    "    ##Load the names into the queue\n",
    "    for name in listofNames:\n",
    "        q.enqueue(name)\n",
    "    \n",
    "    ##Start the game\n",
    "    while q.size() > 1:\n",
    "        for _ in range(num):\n",
    "            q.enqueue(q.dequeue())\n",
    "        \n",
    "        q.dequeue()\n",
    "    ##Since the queue will contain 2 items at this point.\n",
    "    return q.dequeue()"
   ]
  },
  {
   "cell_type": "code",
   "execution_count": 40,
   "metadata": {},
   "outputs": [
    {
     "name": "stdout",
     "output_type": "stream",
     "text": [
      "Susan\n"
     ]
    }
   ],
   "source": [
    "print(hot_potatoes([\"Bill\",\"David\",\"Susan\",\"Jane\",\"Kent\",\"Brad\"],7))"
   ]
  },
  {
   "cell_type": "markdown",
   "metadata": {},
   "source": [
    "### Problem 2: Printqueue simulation\n",
    "\n",
    "You have a printer in a lab that students use to print. Assume that\n",
    "there are $N$ students in a lab every hour and that they print anywhere between 1 to $M$ pages up to *twice* every  hour. As students start sending print requests to the printer, the question is what is the average length of \n",
    "time for which students have to wait for their print jobs to complete ? Also assume that the printer can print  anywhere between 1 and 20 pages per minute. \n",
    "\n",
    "The idea then would be to load each print task into a queue and then as the printer completes printing the current task of a certain length (that is, page length) and becomes available, the next task is assigned to the printer (exits the queue) and subsequent tasks queue up to be printed. We can set up a simulation to calculate the *average* length of time for which a print task takes to complete and the number of tasks submitted to the printer given a certain *total* duration (1 hour students spend in the lab) and pages per minute the printer is capable of printing. \n",
    "\n",
    "The parameters of interest are\n",
    "   * the number of students $S$ and\n",
    "   * total length of a print task $L$\n",
    "   * pages per minute $p$\n",
    "   * total length of time for the simulation $T$\n",
    "\n",
    "\n",
    "\n"
   ]
  },
  {
   "cell_type": "code",
   "execution_count": 41,
   "metadata": {},
   "outputs": [],
   "source": [
    "class Printer:\n",
    "    \"\"\"Printer class that initializes the pages per minute that the printer can print,\n",
    "    the total time remaining, and currentTask status.\"\"\"\n",
    "    def __init__(self, ppm):\n",
    "        self.pagerate = ppm\n",
    "        self.currentTask = None\n",
    "        self.timeRemaining = 0##Initialize timeRemaining to 0 to indicate that printer is available.\n",
    "    \n",
    "    ##Ticker to decrement timeRemaining as the printer is printing.\n",
    "    def tick(self):\n",
    "        if self.currentTask != None:\n",
    "            self.timeRemaining = self.timeRemaining - 1\n",
    "            if self.timeRemaining <= 0:\n",
    "                self.currentTask = None\n",
    "    \n",
    "    ##Determine whether the printer is busy or not\n",
    "    def busy(self):\n",
    "        if self.currentTask != None:\n",
    "            return True\n",
    "        else:\n",
    "            return False\n",
    "\n",
    "    def startNext(self,newtask):\n",
    "        self.currentTask = newtask\n",
    "        ##Get total time remaining to print 'pl' pages given a print rate 'ppm' \n",
    "        self.timeRemaining = newtask.getPages() * 60/self.pagerate\n",
    "\n",
    "class Task:\n",
    "    def __init__(self,time, pl):\n",
    "        self.timestamp = time\n",
    "        self.pages = random.randrange(1,pl+1)\n",
    "\n",
    "    def getStamp(self):\n",
    "        return self.timestamp\n",
    "\n",
    "    def getPages(self):\n",
    "        return self.pages\n",
    "    \n",
    "    ##Calculate the wait time between tasks\n",
    "    def waitTime(self, currenttime):\n",
    "        return currenttime - self.timestamp\n",
    "\n",
    "\n",
    "def simulation(numSeconds, pagesPerMinute, S, t, pl):\n",
    "\n",
    "    labprinter = Printer(pagesPerMinute)\n",
    "    printQueue = Queue()\n",
    "    waitingtimes = []\n",
    "\n",
    "    for currentSecond in range(numSeconds):\n",
    "\n",
    "        if newPrintTask(S, t, numSeconds):\n",
    "            task = Task(currentSecond, pl)\n",
    "            printQueue.enqueue(task)\n",
    "\n",
    "        if (not labprinter.busy()) and (not printQueue.isEmpty()):\n",
    "            nexttask = printQueue.dequeue()\n",
    "            waitingtimes.append(nexttask.waitTime(currentSecond))\n",
    "            labprinter.startNext(nexttask)\n",
    "\n",
    "        labprinter.tick()\n",
    "\n",
    "    averageWait=sum(waitingtimes)/len(waitingtimes)\n",
    "    print(\"Average Wait %6.2f secs %3d tasks remaining.\" % (averageWait,printQueue.size()))\n",
    "\n",
    "def newPrintTask(S, t, T):\n",
    "    \n",
    "    ##Total number of students S times number of tasks per student t / total time (minutes) = tasks / minute\n",
    "    denom = Fraction((S*t)/T).limit_denominator().denominator\n",
    "    num = random.randrange(1,denom+1)\n",
    "    ##Basically on average there is 1 print task created every 1/(T/(S*t)) seconds. This piece of code\n",
    "    ##helps ascertain the probability of creating a print task every second. So if num = (T/(S*T)), then a task\n",
    "    ##is generated.\n",
    "    if num == denom:\n",
    "        return True\n",
    "    else:\n",
    "        return False"
   ]
  },
  {
   "cell_type": "code",
   "execution_count": 42,
   "metadata": {},
   "outputs": [
    {
     "name": "stdout",
     "output_type": "stream",
     "text": [
      "Average Wait   1.45 secs   0 tasks remaining.\n",
      "Average Wait   1.87 secs   0 tasks remaining.\n",
      "Average Wait   5.22 secs   0 tasks remaining.\n",
      "Average Wait   1.02 secs   0 tasks remaining.\n",
      "Average Wait   1.11 secs   0 tasks remaining.\n",
      "Average Wait   4.98 secs   0 tasks remaining.\n",
      "Average Wait   1.63 secs   0 tasks remaining.\n",
      "Average Wait   1.52 secs   0 tasks remaining.\n",
      "Average Wait   2.49 secs   0 tasks remaining.\n",
      "Average Wait   1.19 secs   0 tasks remaining.\n"
     ]
    }
   ],
   "source": [
    "##Run the simulation for n independent trials\n",
    "S = 20\n",
    "t = 2\n",
    "T = 3600\n",
    "n = 10\n",
    "ppm = 20\n",
    "pl = 10\n",
    "for i in range(n):\n",
    "    simulation(T,ppm, S, t, pl)\n"
   ]
  },
  {
   "cell_type": "markdown",
   "metadata": {},
   "source": [
    "## 3. Dequeue\n",
    "\n",
    "A **deque**, also known as a double-ended queue, is an ordered collection of items similar to the queue. It has two ends, a front and a rear, and the items remain positioned in the collection. What makes a deque different is the unrestrictive nature of adding and removing items. New items can be added at either the front or the rear. Likewise, existing items can be removed from either end. In a sense, this hybrid linear structure provides all the capabilities of stacks and queues in a single data structure."
   ]
  },
  {
   "cell_type": "code",
   "execution_count": 43,
   "metadata": {},
   "outputs": [],
   "source": [
    "##Constructing a Dequeue class\n",
    "class Dequeue:\n",
    "    \"\"\"Assumes front of queue is position -1 while rear is position 0 in a list of items used to represent a dequeue.\"\"\"\n",
    "    def __init__(self):\n",
    "        self.items = []\n",
    "        \n",
    "    def addFront(self, item):\n",
    "        self.items.append(item)\n",
    "    \n",
    "    def removeFront(self):\n",
    "        return self.items.pop()\n",
    "    \n",
    "    def addRear(self, item):\n",
    "        self.items.insert(0, item)\n",
    "    \n",
    "    def removeRear(self):\n",
    "        return self.items.pop(0)\n",
    "    \n",
    "    def isEmpty(self):\n",
    "        return self.items == []\n",
    "    \n",
    "    def size(self):\n",
    "        return len(self.items)"
   ]
  },
  {
   "cell_type": "code",
   "execution_count": 44,
   "metadata": {},
   "outputs": [
    {
     "name": "stdout",
     "output_type": "stream",
     "text": [
      "4\n",
      "False\n",
      "[8, 'Dog', 4, 'cat', True]\n",
      "8\n",
      "True\n",
      "['Dog', 4, 'cat']\n"
     ]
    }
   ],
   "source": [
    "##Examples\n",
    "d = Dequeue()\n",
    "d.isEmpty()\n",
    "d.addRear(4)\n",
    "d.addRear('Dog')\n",
    "d.addFront('cat')\n",
    "d.addFront(True)\n",
    "print(d.size())\n",
    "print(d.isEmpty())\n",
    "d.addRear(8)\n",
    "print(d.items)\n",
    "print(d.removeRear())\n",
    "print(d.removeFront())\n",
    "print(d.items)"
   ]
  },
  {
   "cell_type": "markdown",
   "metadata": {},
   "source": [
    "### Problem 1: Palindrome checker\n",
    "\n",
    "Check whether a string is a palindrome or not. Enter a string as a set of characters into a queue and then pop and compare the characters at the end and the beginning of the queue to see whether they match. Keep popping until you have 1 or 0 characters left depending on the length of the string. "
   ]
  },
  {
   "cell_type": "code",
   "execution_count": 45,
   "metadata": {},
   "outputs": [],
   "source": [
    "def palindromeChecker(string):\n",
    "    \n",
    "    q = Dequeue()\n",
    "    for s in string:\n",
    "        q.addRear(s)\n",
    "    \n",
    "    check =  True\n",
    "    while check:\n",
    "        if len(q.items) == 0 or len(q.items) == 1:\n",
    "            print(string)\n",
    "            return True\n",
    "        else:\n",
    "            bottom = q.removeRear()\n",
    "            top    = q.removeFront()\n",
    "            if  bottom != top:\n",
    "                return False"
   ]
  },
  {
   "cell_type": "markdown",
   "metadata": {},
   "source": [
    "## 4. Linked Lists\n",
    "\n",
    "Linked lists are a type of data structure that are used to hold objects while maintaining their relative positions. We DO NOT need to store all the positions in memory just maintain their relative positions (where is one element or item relative to another). If we know the relative positions, then in order to retrieve an item, we just follow *links* from one item to the next till we reach the desired item.\n",
    "\n",
    "Creating list type data structures using *linked lists*. We will use Python's `Node` class to create a linked list that hold both an unordered collection of items and then modify it so that it can hold an ordered collection of items.  \n"
   ]
  },
  {
   "cell_type": "code",
   "execution_count": 46,
   "metadata": {},
   "outputs": [],
   "source": [
    "##Create the nodes of a linked list object using the Node class\n",
    "class Node:\n",
    "    \n",
    "    def __init__(self, item):\n",
    "        self.data = item ##Value of the item that is stored in a node\n",
    "        self.next = None ##reference to the next node that currently is None which imples the end of the linked list.\n",
    "    \n",
    "    def getData(self):\n",
    "        return self.data\n",
    "    \n",
    "    def setData(self,newdata):\n",
    "        self.data = newdata\n",
    "\n",
    "    def getNext(self):\n",
    "        return self.next\n",
    "\n",
    "    def setNext(self,newnext):\n",
    "        self.next = newnext"
   ]
  },
  {
   "cell_type": "markdown",
   "metadata": {},
   "source": [
    "### 4.1 Unordered List\n",
    "Use linked list data structure to create a list of unordered items or objects."
   ]
  },
  {
   "cell_type": "code",
   "execution_count": 47,
   "metadata": {},
   "outputs": [],
   "source": [
    "##Create a class that utilizes a linked list to create an unordered list of objects\n",
    "class UnorderedList:\n",
    "    \n",
    "    def __init__(self):\n",
    "        ##Pertains to the \"head\" of the unordered linked list that currently references the None data type.\n",
    "        self.head = None\n",
    "        self.tail = None\n",
    "        self.count = 0\n",
    "        self.length  = 0\n",
    "    \n",
    "    def isEmpty(self):\n",
    "        ##Since we access the nodes (and data) in a linked list via the head object\n",
    "        ##if head is None then we know that it does not reference any other nodes and \n",
    "        ##is therefore empty.\n",
    "        return self.head == None \n",
    "    \n",
    "        \n",
    "    ##Add an item to the Linked list\n",
    "    def add(self, item):\n",
    "        ##Instantiates a Node \n",
    "        newitem = Node(item)\n",
    "        ##Let the newly created node point to what \"head\" currently points to.\n",
    "        newitem.setNext(self.head)\n",
    "        ##Now let \"head\" point or reference this newly created node.\n",
    "        self.head = newitem\n",
    "        self.length += 1\n",
    "        if self.length == 1:##Keep track of the end of the linked list\n",
    "            self.tail = newitem\n",
    "    \n",
    "    #Get the size of the current linked list.\n",
    "    def size(self):\n",
    "        current = self.head\n",
    "        count = 0\n",
    "        while current != None: ##A reference such as current can be compared to datatype None \n",
    "            count = count + 1\n",
    "            current = current.getNext()\n",
    "        \n",
    "        return count\n",
    "    \n",
    "    ##Search for an element in the linked list and return True and it's index if\n",
    "    ##it exists in the linked list.\n",
    "    def search(self, item):\n",
    "        ##Instantiate current to head (this is the starting point to traverse the linked list)\n",
    "        current = self.head\n",
    "        found = False\n",
    "        while not found and current != None:\n",
    "            if current.getData() == item:\n",
    "                found = True\n",
    "            else:##Move to the next node\n",
    "                current = current.getNext()\n",
    "\n",
    "        return found\n",
    "       \n",
    "    def remove(self, item):\n",
    "        ##To remove a node, you need two external references with one called \"prev\" lagging behind \n",
    "        ##\"current\" by one node, so that once the node containing the item you want to delete is found\n",
    "        ##you can 'remove' it by simply changing the reference that 'prev' points to the node after 'current'\n",
    "        current = self.head\n",
    "        prev    = None\n",
    "        found   = False\n",
    "        \n",
    "        while not found:\n",
    "            if current.getData() == item:\n",
    "                found = True\n",
    "            else:\n",
    "                prev    = current\n",
    "                current = current.getNext()\n",
    "            \n",
    "        if prev is None:\n",
    "            self.head = current.getNext()\n",
    "        else:\n",
    "            prev.setNext(current.getNext())\n",
    "    \n",
    "    #Append items to END of the linked list. This has time complexity of O(n)\n",
    "    def append(self, item):\n",
    "        current = self.head\n",
    "        if current:\n",
    "            while current.getNext() != None:\n",
    "                current = current.getNext()\n",
    "            current.setNext(Node(item))\n",
    "        else:\n",
    "            ##In case of an empty list containing no elements.\n",
    "            self.head = Node(item)\n",
    "    \n",
    "    #Append items to END of the linked list. This has time complexity of O(1)\n",
    "    def appendO1(self, item):\n",
    "        temp = Node(item)\n",
    "        if self.isEmpty():\n",
    "            self.head = temp\n",
    "        else:\n",
    "            self.tail.setNext(temp)##Set the tail to point to this newly created node\n",
    "        self.tail = temp##Make the tail equal to temp\n",
    "        self.length += 1\n",
    "\n",
    "    \n",
    "    ##Insert into a linked list at a certain position.\n",
    "    def insert(self, pos, item):\n",
    "        \"\"\"Insert item in pos\"\"\"\n",
    "        current = self.head\n",
    "        prev    = None\n",
    "        insert  = False\n",
    "        count   = 0 \n",
    "        while not insert and current != None:\n",
    "            if pos == -1:##O(n)\n",
    "                self.append(item)\n",
    "            elif count == pos:\n",
    "                ##Create the node\n",
    "                temp = Node(item)\n",
    "                if pos == 0:\n",
    "                    temp.setNext(current)\n",
    "                    self.head = temp\n",
    "                else:\n",
    "                    prev.setNext(temp)\n",
    "                    temp.setNext(current)\n",
    "                insert = True\n",
    "            else:##Continue traversing the linked list \n",
    "                prev = current\n",
    "                current = current.getNext()\n",
    "                count += 1\n",
    "    \n",
    "    def index(self, item):\n",
    "        \"\"\"Returns the position of the item in the linked list\"\"\"\n",
    "        current = self.head\n",
    "        ind = 0\n",
    "        found = False\n",
    "        while not found:\n",
    "            #print(ind, current.getData())\n",
    "            if current.getData() == item:\n",
    "                found = True\n",
    "                return ind\n",
    "            else:\n",
    "                current = current.getNext()\n",
    "                ind = ind + 1\n",
    "            \n",
    "        if found == False:\n",
    "            return -1\n",
    "    \n",
    "    def pop(self):\n",
    "        \"\"\"Pop the last item from the linked list\"\"\"\n",
    "        current = self.head\n",
    "        prev    = None\n",
    "        if current:\n",
    "            while current != None:\n",
    "                if current.getNext() == None:\n",
    "                    item = current.getData()\n",
    "                    prev.setNext(None)\n",
    "                    return item\n",
    "                else:\n",
    "                    prev    = current\n",
    "                    current = current.getNext()\n",
    "        else:\n",
    "            ##In case of an empty list containing no elements.\n",
    "            print('Cannot pop an empty list')\n",
    "            return -1\n",
    "        \n",
    "    def poploc(self, loc):\n",
    "        \"\"\"Pop the last item from the linked list.\"\"\"\n",
    "        current = self.head\n",
    "        prev    = None\n",
    "        count   = 0\n",
    "        while current != None:\n",
    "            if count == loc:\n",
    "                item = current.getData()\n",
    "                if loc == 0:\n",
    "                    self.head = current.getNext()\n",
    "                    return item\n",
    "                else:\n",
    "                    prev.setNext(current.getNext())\n",
    "                    return item \n",
    "            else:\n",
    "                ##Keep traversing the linked list till you find the loc.\n",
    "                prev    = current\n",
    "                current = current.getNext()\n",
    "                count += 1\n",
    "            \n",
    "    ##Iterates over the linked list.\n",
    "    def printList(self):\n",
    "        \n",
    "        current = self.head\n",
    "        self.count = 0\n",
    "        while current != None:\n",
    "            print(self.count, current.getData())\n",
    "            current = current.getNext()\n",
    "            self.count += 1      "
   ]
  },
  {
   "cell_type": "code",
   "execution_count": 48,
   "metadata": {},
   "outputs": [
    {
     "name": "stdout",
     "output_type": "stream",
     "text": [
      "2\n",
      "3\n",
      "True\n",
      "2\n",
      "0 41\n",
      "1 31\n",
      "2 54\n",
      "None\n",
      "54\n",
      "0 41\n",
      "1 31\n",
      "None\n",
      "0 77\n",
      "1 41\n",
      "2 31\n",
      "None\n",
      "41\n",
      "0 77\n",
      "1 31\n",
      "2 67\n",
      "None\n"
     ]
    }
   ],
   "source": [
    "ml = UnorderedList()\n",
    "ml.add(31)\n",
    "ml.add(41)\n",
    "print(ml.size())\n",
    "ml.append(54)\n",
    "print(ml.size())\n",
    "print(ml.search(54))\n",
    "print(ml.index(54))\n",
    "print(ml.printList())\n",
    "print(ml.pop())\n",
    "print(ml.printList())\n",
    "ml.add(77)\n",
    "print(ml.printList())\n",
    "print(ml.poploc(1))\n",
    "ml.appendO1(67)\n",
    "print(ml.printList())"
   ]
  },
  {
   "cell_type": "markdown",
   "metadata": {},
   "source": [
    "### 4.2 Ordered List\n",
    "Use the linked list data structure to construct a list that contains an *ordered* collection of items. We can use the same methods described in the `UnorderedList` class however since we're trying to create an ordered list, we will have to modify the `search` and `add` methods. "
   ]
  },
  {
   "cell_type": "code",
   "execution_count": 49,
   "metadata": {},
   "outputs": [],
   "source": [
    "class OrderedList:\n",
    "    \n",
    "    def __init__(self):\n",
    "        ##Pertains to the \"head\" of the unordered linked list that currently references the None data type.\n",
    "        self.head = None\n",
    "        self.tail = None\n",
    "        self.length  = 0\n",
    "    \n",
    "    def isEmpty(self):\n",
    "        ##Since we access the nodes (and data) in a linked list via the head object\n",
    "        ##if head is None then we know that it does not reference any other nodes and \n",
    "        ##is therefore empty.\n",
    "        return self.head == None \n",
    "    \n",
    "        \n",
    "    ##Add an item to the Linked list. Since we're trying to create an ordered list\n",
    "    ##each time a node is created with an item we have to place it in its correct \n",
    "    ##position relative to other items in the list based on the ordering.\n",
    "    def add(self, item):\n",
    "        current = self.head\n",
    "        previous = None\n",
    "        stop = False\n",
    "        while current != None and not stop:\n",
    "            if current.getData() > item:\n",
    "                ##If item is > prev and < current, then we've found it's position in the list relative\n",
    "                ##to other elements.\n",
    "                stop = True\n",
    "            else:\n",
    "                previous = current\n",
    "                current = current.getNext()\n",
    "       \n",
    "        ##Instantiate a new item\n",
    "        temp = Node(item)\n",
    "        if previous == None:\n",
    "            ##Let the newly created node point to what \"head\" currently points to.\n",
    "            temp.setNext(self.head)\n",
    "            ##Now let \"head\" point or reference this newly created node.\n",
    "            self.head = temp\n",
    "        else:\n",
    "            temp.setNext(current)\n",
    "            previous.setNext(temp)\n",
    "        \n",
    "        self.length += 1\n",
    "        if self.length == 1:##Keep track of the end of the linked list\n",
    "            self.tail = temp\n",
    "    \n",
    "    #Get the size of the current linked list.\n",
    "    def size(self):\n",
    "        current = self.head\n",
    "        count = 0\n",
    "        while current != None: ##A reference such as current can be compared to datatype None \n",
    "            count = count + 1\n",
    "            current = current.getNext()\n",
    "        \n",
    "        return count\n",
    "    \n",
    "    ##Search for an element in the linked list and return True if it exists.\n",
    "    ##Since we're constructing an prdered list, we DON'T have to traverse through\n",
    "    ##the entire list to search for the required item. We can stop if we find that\n",
    "    ##a current value is greater than the value of the item meaning that it is NOT possible \n",
    "    ##for the item to exist beyond that point.\n",
    "    def search(self, item):\n",
    "        ##Instantiate current to head (this is the starting point to traverse the linked list)\n",
    "        current = self.head\n",
    "        found = False\n",
    "        stop = False\n",
    "        while current != None and not found and not stop:\n",
    "            if current.getData() > item:\n",
    "                stop = True\n",
    "            elif current.getData() == item:##Move to the next node\n",
    "                found = True\n",
    "            else:\n",
    "                current = current.getNext()\n",
    "\n",
    "        return found\n",
    "       \n",
    "    def remove(self, item):\n",
    "        ##To remove a node, you need two external references with one called \"prev\" lagging behind \n",
    "        ##\"current\" by one node, so that once the node containing the item you want to delete is found\n",
    "        ##you can 'remove' it by simply changing the reference that 'prev' points to the node after 'current'\n",
    "        current = self.head\n",
    "        prev    = None\n",
    "        found   = False\n",
    "        \n",
    "        while not found:\n",
    "            if current.getData() == item:\n",
    "                found = True\n",
    "            else:\n",
    "                prev    = current\n",
    "                current = current.getNext()\n",
    "            \n",
    "        if prev is None:\n",
    "            self.head = current.getNext()\n",
    "        else:\n",
    "            prev.setNext(current.getNext())\n",
    "    \n",
    "    #Append items to END of the linked list. This has time complexity of O(1)\n",
    "    def append(self, item):\n",
    "        temp = Node(item)\n",
    "        if self.isEmpty():\n",
    "            self.head = temp\n",
    "        else:\n",
    "            self.tail.setNext(temp)##Set the tail to point to this newly created node\n",
    "        self.tail = temp##Make the tail equal to temp\n",
    "        self.length += 1\n",
    "\n",
    "    \n",
    "    ##Insert into a linked list at a certain position.\n",
    "    def insert(self, pos, item):\n",
    "        \"\"\"Insert item in pos\"\"\"\n",
    "        current = self.head\n",
    "        prev    = None\n",
    "        insert  = False\n",
    "        count   = 0 \n",
    "        while not insert and current != None:\n",
    "            if pos == -1:##O(n)\n",
    "                self.append(item)\n",
    "            elif count == pos:\n",
    "                ##Create the node\n",
    "                temp = Node(item)\n",
    "                if pos == 0:\n",
    "                    temp.setNext(current)\n",
    "                    self.head = temp\n",
    "                else:\n",
    "                    prev.setNext(temp)\n",
    "                    temp.setNext(current)\n",
    "                insert = True\n",
    "            else:##Continue traversing the linked list \n",
    "                prev = current\n",
    "                current = current.getNext()\n",
    "                count += 1\n",
    "    \n",
    "    def index(self, item):\n",
    "        \"\"\"Returns the position of the item in the linked list\"\"\"\n",
    "        current = self.head\n",
    "        ind = 0\n",
    "        found = False\n",
    "        while not found:\n",
    "            #print(ind, current.getData())\n",
    "            if current.getData() == item:\n",
    "                found = True\n",
    "                return ind\n",
    "            else:\n",
    "                current = current.getNext()\n",
    "                ind = ind + 1\n",
    "            \n",
    "        if found == False:\n",
    "            return -1\n",
    "    \n",
    "    def pop(self):\n",
    "        \"\"\"Pop the last item from the linked list\"\"\"\n",
    "        current = self.head\n",
    "        prev    = None\n",
    "        if current:\n",
    "            while current != None:\n",
    "                if current.getNext() == None:\n",
    "                    item = current.getData()\n",
    "                    prev.setNext(None)\n",
    "                    return item\n",
    "                else:\n",
    "                    prev    = current\n",
    "                    current = current.getNext()\n",
    "        else:\n",
    "            ##In case of an empty list containing no elements.\n",
    "            print('Cannot pop an empty list')\n",
    "            return -1\n",
    "        \n",
    "    def poploc(self, loc):\n",
    "        \"\"\"Pop the last item from the linked list.\"\"\"\n",
    "        current = self.head\n",
    "        prev    = None\n",
    "        count   = 0\n",
    "        while current != None:\n",
    "            if count == loc:\n",
    "                item = current.getData()\n",
    "                if loc == 0:\n",
    "                    self.head = current.getNext()\n",
    "                    return item\n",
    "                else:\n",
    "                    prev.setNext(current.getNext())\n",
    "                    return item \n",
    "            else:\n",
    "                ##Keep traversing the linked list till you find the loc.\n",
    "                prev    = current\n",
    "                current = current.getNext()\n",
    "                count += 1\n",
    "            \n",
    "    ##Iterates over the linked list.\n",
    "    def printList(self):\n",
    "        \n",
    "        current = self.head\n",
    "        self.count = 0\n",
    "        while current != None:\n",
    "            print(self.count, current.getData())\n",
    "            current = current.getNext()\n",
    "            self.count += 1      "
   ]
  },
  {
   "cell_type": "code",
   "execution_count": 50,
   "metadata": {},
   "outputs": [
    {
     "name": "stdout",
     "output_type": "stream",
     "text": [
      "6\n",
      "True\n",
      "False\n",
      "0 17\n",
      "1 26\n",
      "2 31\n",
      "3 54\n",
      "4 77\n",
      "5 93\n"
     ]
    }
   ],
   "source": [
    "mylist = OrderedList()\n",
    "mylist.add(31)\n",
    "mylist.add(77)\n",
    "mylist.add(17)\n",
    "mylist.add(93)\n",
    "mylist.add(26)\n",
    "mylist.add(54)\n",
    "\n",
    "print(mylist.size())\n",
    "print(mylist.search(93))\n",
    "print(mylist.search(100))\n",
    "mylist.printList()"
   ]
  },
  {
   "cell_type": "markdown",
   "metadata": {},
   "source": [
    "### 4.3 Time Complexity \n",
    "   To analyze the complexity of the linked list operations, we need to consider whether they require traversal. Consider a linked list that has $n$ nodes. The `isEmpty` method is $O(1)$ since it requires one step to check the head reference for `None`. `size`, `remove` and `add` on the other hand, will always require $n$ steps since there is no way to know how many nodes are in the linked list without traversing from head to end. Therefore, `length` is $O(n)$. Adding an item to an unordered list will always be $O(1)$ since we simply place the new node at the head of the linked list. However, search and remove, as well as add for an ordered list, all require the traversal process. Although on average they may need to traverse only half of the nodes, these methods are all $O(n)$ since in the worst case each will process every node in the list."
   ]
  }
 ],
 "metadata": {
  "kernelspec": {
   "display_name": "Python 3",
   "language": "python",
   "name": "python3"
  },
  "language_info": {
   "codemirror_mode": {
    "name": "ipython",
    "version": 3
   },
   "file_extension": ".py",
   "mimetype": "text/x-python",
   "name": "python",
   "nbconvert_exporter": "python",
   "pygments_lexer": "ipython3",
   "version": "3.7.6"
  }
 },
 "nbformat": 4,
 "nbformat_minor": 4
}
