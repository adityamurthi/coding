{
 "cells": [
  {
   "cell_type": "markdown",
   "metadata": {},
   "source": [
    "# Searching and Sorting\n",
    "\n",
    "The purpose of this notebook is to describe various algorithms used for searching and sorting a collection of items that are stored in any of the various data structures. We will first discuss search algorithms before moving on to sorting."
   ]
  },
  {
   "cell_type": "markdown",
   "metadata": {},
   "source": [
    "## 1. Searching\n",
    "Objective is to find an item in a collection of items stored in a list data structure. There are many algorithms that can be used here and a few of them are discussed below.\n",
    "\n",
    "### 1.1 Sequential Search\n",
    "Given a list of items, the goal is to ascertain whether an item is in the list or not. The items in the list can be either placed *randomly* (not conforming to any particular ordering) or follow some kind of ordering (arranged in ascending or descending order). In case of a collection wherein the items are *randomly* assigned the time complexity (worst case) is $O(n)$ if the item is present or not because for a collection of length $n$, we will have to compare the item with $n$ items in the collection before we find it or not. However, if the collection comprises an ordered list of items, then in case the item is NOT in the list, we will on *average* have to only traverse $n/2$ items before we figure out that the item is NOT in the list. "
   ]
  },
  {
   "cell_type": "code",
   "execution_count": 128,
   "metadata": {},
   "outputs": [],
   "source": [
    "from sys import exit\n",
    "from time import time"
   ]
  },
  {
   "cell_type": "code",
   "execution_count": 1,
   "metadata": {},
   "outputs": [],
   "source": [
    "##Unordered List\n",
    "def sequentialSearchU(aList, item):\n",
    "    \n",
    "    found = False\n",
    "    n = len(aList)\n",
    "    pos = 0\n",
    "    while pos < n and not found:\n",
    "        if aList[pos] == item:\n",
    "            found = True\n",
    "            return found, pos\n",
    "        else:\n",
    "            pos += 1\n",
    "    if found == False:\n",
    "        return found"
   ]
  },
  {
   "cell_type": "code",
   "execution_count": 2,
   "metadata": {},
   "outputs": [
    {
     "name": "stdout",
     "output_type": "stream",
     "text": [
      "(True, 2)\n",
      "False\n"
     ]
    }
   ],
   "source": [
    "print(sequentialSearchU([13,2,5,89,10,3], 5))\n",
    "print(sequentialSearchU([13,2,5,89,10,3], 55))"
   ]
  },
  {
   "cell_type": "code",
   "execution_count": 3,
   "metadata": {},
   "outputs": [],
   "source": [
    "def sequentialSearchO(aList, item):\n",
    "    \n",
    "    stop = False\n",
    "    found = False\n",
    "    n = len(aList)\n",
    "    pos = 0\n",
    "    while pos < n and not found and not stop:\n",
    "        if aList[pos] == item:\n",
    "            found = True\n",
    "            return found, pos\n",
    "        elif aList[pos] > item:##Stop since the item is smaller than the item at the current position in the list.\n",
    "            stop = True\n",
    "            return found\n",
    "        else:\n",
    "            pos += 1\n",
    "    if found == False:\n",
    "        return found"
   ]
  },
  {
   "cell_type": "code",
   "execution_count": 4,
   "metadata": {},
   "outputs": [
    {
     "name": "stdout",
     "output_type": "stream",
     "text": [
      "False\n",
      "(True, 5)\n"
     ]
    }
   ],
   "source": [
    "print(sequentialSearchO([1,5,10,35,99,120], 4))\n",
    "print(sequentialSearchO([1,5,10,35,99,120], 120))"
   ]
  },
  {
   "cell_type": "markdown",
   "metadata": {},
   "source": [
    "### 1.2 Binary Search\n",
    "\n",
    "Given a *random* collection of items in a list, if we can sort the items in a particular order, then we can take advanatge of the inherent ordering and use a **divide and conquer** strategy to find whether an item is present in the list or not faster. **Binary search** uses a *divide and conquer* strategy to perform faster searches. \n",
    "\n",
    "#### Time complexity analysis\n",
    "Given a list of $n$ items, at each step the number of items to compare our given item with reduces by a factor of half, that is $n/2$. So for example after we make 1 comparison, we're left with $n/2$ items to compare against. After we make the second comparison we're left with $n/4$ (or $n/2^{2}$) items and so on until we reach a point where we've made $i$ comparisons and have only 1 item left. Therefore, $n/2^{i} = 1$. $i$ is the number of comparisons we have to make to get through the entire list and so solving for $i$ we have $i = \\log{n}$. Therfore, the time complexity of the binary search algorithm is $O(\\log n)$."
   ]
  },
  {
   "cell_type": "code",
   "execution_count": 5,
   "metadata": {},
   "outputs": [
    {
     "name": "stdout",
     "output_type": "stream",
     "text": [
      "False\n",
      "(True, 4)\n"
     ]
    }
   ],
   "source": [
    "def binarySearch(aList, item):\n",
    "    \"\"\"This is a recursive implementation of binarySearch.\"\"\"\n",
    "    found = False\n",
    "    first = 0\n",
    "    last = len(aList)-1\n",
    "    if len(aList) == 0:##aList[0:0] = empty list\n",
    "        return False\n",
    "    else:\n",
    "        midpoint = len(aList) // 2\n",
    "        if aList[midpoint] == item:\n",
    "            found = True\n",
    "            return found, midpoint\n",
    "        elif aList[midpoint] > item:##Means item is in the left halve of the list\n",
    "            last = midpoint - 1\n",
    "            return binarySearch(aList[first:last], item)\n",
    "        else:##item is in the right halve of the list\n",
    "            first = midpoint + 1\n",
    "            return binarySearch(aList[first:last], item)\n",
    "\n",
    "testlist = [0, 1, 2, 8, 13, 17, 19, 32, 42,]\n",
    "print(binarySearch(testlist, 3))\n",
    "print(binarySearch(testlist, 13))"
   ]
  },
  {
   "cell_type": "markdown",
   "metadata": {},
   "source": [
    "### 1.3 Hash Tables\n",
    "\n",
    "A data structure that enables searching for an item with $O(1)$ time complexity. A collection of items are stored in *hash table* (which can be a simple data structure such as a `list` in Python) at individual locations called *slots* that have unique indices associated with them. These indices take on integer values from $0$ to the $m-1$, where $m$ is the length of the table and are initially assigned `None` values. Then given a collection of integers 31, 46 7, 81, 77 and 24 a **hash function** computes the slot locations where these values will be stored so that they can be easily accessed later on. If the length of the hash table $m$ is 11, then this table is said to have a **load factor** $\\lambda = \\frac{\\textrm{number of items stored}}{m} = \\frac{6}{11}$. \n",
    "\n",
    "A simple example of a hash function is the \"remainder function\" that computes the slot indices for each item by dividing each item to be stored by $m$ (length of the table) and storing the *remainder*. So for the above integers if $m = 11$, we get $(31, 9), (46, 3), (7, 7), (81, 4), (77, 0), (24, 2)$ as the *slots* or unique indices associated with these integers in the hash table. However, it must be noted that this particular hash function will NOT work if say the next item to be stored is $90$ which would also result in a slot index of $2$ resulting in a **collision**.\n",
    "\n",
    "Given a collection of items, a hash function that maps each item into a unique slot is referred to as a *perfect hash function*. Unfortunately, given an arbitrary collection of items, there is no systematic way to construct a perfect hash function. One way to always have a perfect hash function is to increase the size of the hash table so that each possible value in the item range can be accommodated. However, this is only possible for a small set of numbers but impractical for larger sets of items. Therefore, the goal is to **create a hash function that minimizes the number of collisions, is easy to compute, and evenly distributes the items in the hash table**.\n",
    "\n",
    "Other hash functions include the **folding method** wherein the item is divided into (near) equal sized segments, added up together after which the \"remainder function\" is applied to the sum to create the hash value of the item. Another method called **mid-square** squares the value of the item as a first step and then extracts a certain part (first two or last two or middle two digits) of the squared number and applies the \"remainder function\" to create the hash. \n",
    "\n",
    "Let's look at a simple example of using a hash table to store a string."
   ]
  },
  {
   "cell_type": "code",
   "execution_count": 6,
   "metadata": {},
   "outputs": [],
   "source": [
    "def stringHash(string, nh):\n",
    "    \"\"\"Takes a string and length of hash table as input\n",
    "    generates a hash value for the string.\"\"\"\n",
    "    \n",
    "    sm = 0\n",
    "    for pos in range(len(string)):\n",
    "        sm = sm + (pos+1)*ord(string[pos])##Use the positions as weights in the sum in order to take care of anagrams.\n",
    "    \n",
    "    return sm%nh"
   ]
  },
  {
   "cell_type": "code",
   "execution_count": 7,
   "metadata": {},
   "outputs": [
    {
     "name": "stdout",
     "output_type": "stream",
     "text": [
      "4\n"
     ]
    }
   ],
   "source": [
    "s = 'dog'\n",
    "print(stringHash(s, 11))"
   ]
  },
  {
   "cell_type": "markdown",
   "metadata": {},
   "source": [
    "#### 1.3.1 Collision Resolution\n",
    "\n",
    "There are many techniques used to resolve **collisions** that occur when the same hash value is generated (using the \"remainder function\") for multiple items. Some of these are listed below:\n",
    "* **open addressing with linear probing**: if mutliple items have the same hash value, then sequentially traverse the hash table till a `None` value is found and store the item there. This often results in *clustering* of items with the same hash value around the original slot. Recall that one of the goals of hashing is to *evenly* distribute items in the hash table.\n",
    "* **linear probing with _skip_**: a common way to deal with clustering is to use a _skip_ value while doing sequential search for the next available slot.\n",
    "> NOTE: The _skip_ value must be specified in such a way that all slots in the hash table are covered. What is frequently done is to use a _prime_ number for the length of the hash table that works well with _skip_ to visit all the slots in the table. (Sequential search in the worst case will take upto $O(n)$ time, $n$ is the length of the hash table).\n",
    "* **quadratic probing**: If $h$ is the hash value then while searching for the next available slot, instead of using a constant value of _skip_ we increment it quadratically resulting in $h+1, h+4, h+9, \\dots$ as the next set of hash values that will be probed for empty slots.\n",
    "* **chaining**: storing *references* to the items corresponding to the same hash value (using perhaps a _linked list_ ) at the designated slot. This will help improve the search time for items as well since the number of items corresponding to the same slot value is expected to be much smaller than the length of the entire hash table. This technique also prevents the hash table from growing to very large sizes."
   ]
  },
  {
   "cell_type": "code",
   "execution_count": 58,
   "metadata": {},
   "outputs": [],
   "source": [
    "##Implementing the Map Abstract data type using Hashtable class\n",
    "class HashTable:\n",
    "    \n",
    "    def __init__(self, skip):\n",
    "        \n",
    "        ##Create a hast table that holds the \"keys\" whose locations or slots in the table are determined \n",
    "        ##using a hashfunction.\n",
    "        self.size = 11\n",
    "        self.skip = skip\n",
    "        self.slots = [None]*self.size\n",
    "        self.data  = [None]*self.size\n",
    "    \n",
    "    def put(self, key, item):\n",
    "        \n",
    "        \"\"\"The goal here is to store (key,value) pairs using a hastable\n",
    "        (keys) and list data structure (data). The way in which the keys \n",
    "        are stored comprises of using a hashfunction to generate the slots\n",
    "        to store the keys in a list whose indices or hashvalues correlate \n",
    "        with those used to store the data values. The goal is to mimic a \n",
    "        dictionary in Python wherein the values can easily be accessed using \n",
    "        the keys. Hence retrieval has O(1) time complexity.\n",
    "        \"\"\"\n",
    "        ## Generate a hasvalue corresponding to the key\n",
    "        hashval = self.hashfunc(key, len(self.slots))\n",
    "        \n",
    "        ##If the slot or hashvalue is empty, store the key and corresponding \n",
    "        ##data value in the slots and data data structures.\n",
    "        if self.slots[hashval] == None:\n",
    "            self.slots[hashval] = key\n",
    "            self.data[hashval] = item\n",
    "        ##If the slot or hashval is not empty then there are TWO possibilities\n",
    "        ##1. the slot already contains the given key and just update the data OR\n",
    "        ##2. the key is different for the same slot meaning collision and so we must\n",
    "        ##find an empty slot.\n",
    "        else:\n",
    "            if self.slots[hashval] == key:\n",
    "                self.data[hashval] = item\n",
    "            ##This is the case where the slot is not empty and has already been\n",
    "            ##assigned a key thereby comprising of a collision. In this case, we\n",
    "            ##will use a \"rehash\" function that implements linear probing with a \n",
    "            ##skip variable set to 1. That is, go sequentially from one slot to the next \n",
    "            ##till we find an empty slot or a slot containing the key in which case we update\n",
    "            ##the data.\n",
    "            else:\n",
    "                ##Get the next slot value\n",
    "                nextslot = self.rehash(hashval, len(self.slots))\n",
    "                ##Find next empty slot\n",
    "                while self.slots[nextslot] != None and self.slots[nextslot] != key:\n",
    "                    nextslot = self.rehash(nextslot, len(self.slots))\n",
    "            \n",
    "                if self.slots[nextslot] == None:\n",
    "                    self.slots[nextslot] = key\n",
    "                    self.data[nextslot] = item\n",
    "                else:\n",
    "                    self.data[nextslot] = item##Update\n",
    "        \n",
    "    ##The \"remainder\" hash function   \n",
    "    def hashfunc(self,key,size):\n",
    "        return key%size\n",
    "    \n",
    "    ##The remainder rehash function that uses linear probing with a skip incrementor.\n",
    "    def rehash(self,oldhash, size):\n",
    "        return (oldhash+self.skip)%size\n",
    "    \n",
    "    ##Get function: Given a key, get the value corresponding to the key.\n",
    "    def get(self, key):\n",
    "        \"\"\"Retrive an item corresponding to the key. If the key is present,\n",
    "        retrieve the item other wise, linearly probe till you find the key\n",
    "        and then retrieve the item or return False if the key is not present.\"\"\"\n",
    "        #This serves as the intial starting point\n",
    "        hashval = self.hashfunc(key, len(self.slots))\n",
    "        found = False\n",
    "        stop  = False\n",
    "        data  = None##Return no data\n",
    "        ##Seacrh the hashtable for the key\n",
    "        pos = hashval\n",
    "        while self.slots[pos] != None and not found and not stop:\n",
    "            ##If current hashval contains the key, then return the data\n",
    "            if self.slots[pos] == key:\n",
    "                found = True\n",
    "                data = self.data[pos]\n",
    "            else:\n",
    "                ##Other wise linearly probe through the hashtable.\n",
    "                pos = self.rehash(pos, len(self.slots))\n",
    "                if pos == hashval:\n",
    "                    stop = True##Could not find the item\n",
    "        \n",
    "        return data\n",
    "    \n",
    "    ##Delete method\n",
    "    def delete(self, key):\n",
    "        \"\"\"The implementation should be straightforward. If hashtable contains the key\n",
    "        then delete the (key, value) pair from the hashtable.\"\"\"\n",
    "        hashval = self.hashfunc(key, len(self.slots))\n",
    "        found = False\n",
    "        pos = hashval\n",
    "        while self.slots[pos] != None and not found:\n",
    "            if self.slots[pos] == key:\n",
    "                print('Deleting the key and value pairs.')\n",
    "                found = True\n",
    "                self.slots[pos] = None##Delete the key\n",
    "                self.data[pos] = None##delete the data pertaining to the key \n",
    "            else:##Find the key using the rehash logic\n",
    "                pos = self.rehash(pos, len(self.slots))\n",
    "                if pos == hashval:\n",
    "                    try:\n",
    "                        raise KeyError('Item not found')\n",
    "                    except KeyError:\n",
    "                        print('Item not found')\n",
    "    \n",
    "    def length(self):\n",
    "        \"\"\"Get the length of the hash table.\"\"\"\n",
    "        return len(self.slots)\n",
    "        \n",
    "    ##Overloading the get, put and delete operators to enable access using []: Don't undertsand this completely.\n",
    "    def __getitem__(self,key):\n",
    "        return self.get(key)\n",
    "\n",
    "    def __setitem__(self,key,data):\n",
    "        self.put(key,data)\n",
    "    \n",
    "    def __delitem__(self, key):\n",
    "        self.delete(key)\n",
    "    \n",
    "    def __len__(self):\n",
    "        return self.length()"
   ]
  },
  {
   "cell_type": "code",
   "execution_count": 54,
   "metadata": {},
   "outputs": [
    {
     "name": "stdout",
     "output_type": "stream",
     "text": [
      "[22, None, None, 33, 37, None, None, None, None, None, 54]\n",
      "['lion', None, None, 'bear', 'dog', None, None, None, None, None, 'cat']\n",
      "cat\n",
      "lion\n",
      "None\n",
      "Deleting the key and value pairs.\n",
      "[22, None, None, 33, 37, None, None, None, None, None, None]\n",
      "['lion', None, None, 'bear', 'dog', None, None, None, None, None, None]\n"
     ]
    }
   ],
   "source": [
    "##Instantiate the Hashtable\n",
    "skip = 3\n",
    "h = HashTable(skip)\n",
    "##Load items\n",
    "h.put(54,\"cat\")\n",
    "h.put(37,\"dog\")\n",
    "h.put(22, \"lion\")\n",
    "h.put(33, \"bear\")\n",
    "print(h.slots)\n",
    "print(h.data)\n",
    "print(h.get(54))\n",
    "print(h.get(22))\n",
    "print(h.get(99))\n",
    "h.delete(54)\n",
    "print(h.slots)\n",
    "print(h.data)\n",
    "h.delete(99)"
   ]
  },
  {
   "cell_type": "code",
   "execution_count": 59,
   "metadata": {},
   "outputs": [
    {
     "name": "stdout",
     "output_type": "stream",
     "text": [
      "[22, None, None, 33, 37, None, None, None, None, None, 54]\n",
      "['lion', None, None, 'bear', 'dog', None, None, None, None, None, 'cat']\n",
      "Deleting the key and value pairs.\n",
      "['lion', None, None, None, 'dog', None, None, None, None, None, 'cat']\n",
      "11\n"
     ]
    }
   ],
   "source": [
    "H = HashTable(skip)\n",
    "H[54] = \"cat\"\n",
    "H[37] = \"dog\"\n",
    "H[22] = \"lion\"\n",
    "H[33] = \"bear\"\n",
    "print(H.slots)\n",
    "print(H.data)\n",
    "del H[33]\n",
    "print(H.data)\n",
    "print(len(H))"
   ]
  },
  {
   "cell_type": "markdown",
   "metadata": {},
   "source": [
    "#### 1.3.2 Complexity analysis\n",
    "Best case time complexity is $O(1)$ for search using hash tables. However, as the table gets loaded ($\\lambda$ increases) more and more collisions start occuring which means more comparisons must be made to find empty slots. For a successful search, the time complexity is $\\frac{1}{2}\\big(1 + \\frac{1}{1- \\lambda}\\big)$ while for an unsuccessful search (item not present) the time complexity is $\\frac{1}{2}\\big(1 + \\big(\\frac{1}{1 - \\lambda}\\big)^{2}\\big)$ when using **open addressing with linear probing**. When using **chaining**, the time complexity is $1 + \\frac{\\lambda}{2}$ for a successful search and $\\lambda$ for an unsuccessful search."
   ]
  },
  {
   "cell_type": "markdown",
   "metadata": {},
   "source": [
    "## 2. Sorting\n",
    "\n",
    "Two things that dictate efficiency of a sorting algorithm are\n",
    "1. the number of comparisons to be made to ascertain whether the item is larger or smaller than other items\n",
    "2. the number of exchanges made based on the outcome of the comparisons."
   ]
  },
  {
   "cell_type": "markdown",
   "metadata": {},
   "source": [
    "### 2.1 Bubble Sort\n",
    "\n",
    "Given a collection of items, go through the collection sequentially and continuously compare and \"swap\" items into their correct locations till all items are in their correct locations. Therefore, if there are $n$ items in a collection, the collection is traversed $n-1$ times till all the items are in the correct order. During each traversal, the largest item in the collectionis put in it's correct place."
   ]
  },
  {
   "cell_type": "code",
   "execution_count": 64,
   "metadata": {},
   "outputs": [],
   "source": [
    "def bubbleSort(aList):\n",
    "    \n",
    "    ##Get length of the list\n",
    "    ni = len(aList)-1\n",
    "    i  = 0\n",
    "    #At every step the number of passes reduces by 1 as the ith largest item is slotted into place \n",
    "    ##resulting in n-i items remaining to compare against.\n",
    "    for passnum in range(len(aList)-1,0, -1):\n",
    "        for j in range(passnum):\n",
    "            if aList[j] > aList[j+1]:\n",
    "                temp = aList[j]\n",
    "                aList[j] = aList[j+1]\n",
    "                aList[j+1] = temp        "
   ]
  },
  {
   "cell_type": "code",
   "execution_count": 67,
   "metadata": {},
   "outputs": [],
   "source": [
    "alist = [54,26,93,17,77,31,44,55,20]\n",
    "#bubbleSort(alist)\n",
    "#print(alist)"
   ]
  },
  {
   "cell_type": "markdown",
   "metadata": {},
   "source": [
    "The time complexity of this implementation of bubble sort is $O(n^2)$ for the comparisons that need to be made and at most $O(n)$ exchanges (for a completely unsorted list) giving a total time complexity in the worst case of $O(n^2)$. However, an alternate version of this algorithm **stops** when there are *no more exchanges* to be made implying that the list is already sorted."
   ]
  },
  {
   "cell_type": "code",
   "execution_count": 73,
   "metadata": {},
   "outputs": [],
   "source": [
    "def shortbubbleSort(aList):\n",
    "    ##Set exchanges to True to imply that the \n",
    "    ##list is unsorted and therefore there will be\n",
    "    ##exchanges made.\n",
    "    exchanges = True\n",
    "    passes = len(aList)-1\n",
    "    while passes > 0 and exchanges:\n",
    "        ##Set exchanges to False now until we actually make a comparison followed by\n",
    "        ##an exchange.\n",
    "        exchanges = False\n",
    "        for i in range(passes):\n",
    "            if aList[i] > aList[i+1]:\n",
    "                exchanges = True\n",
    "                temp = aList[i]\n",
    "                aList[i] = aList[i+1]\n",
    "                aList[i+1] = temp \n",
    "        passes = passes - 1"
   ]
  },
  {
   "cell_type": "code",
   "execution_count": 74,
   "metadata": {},
   "outputs": [
    {
     "name": "stdout",
     "output_type": "stream",
     "text": [
      "[12, 14, 20, 35, 43, 56]\n"
     ]
    }
   ],
   "source": [
    "alist1 = [43,12,56,14,20,35]\n",
    "shortbubbleSort(alist1)\n",
    "print(alist1)"
   ]
  },
  {
   "cell_type": "markdown",
   "metadata": {},
   "source": [
    "### 2.2 Selection Sort\n",
    "\n",
    "Extends the Bubble sort idea to carry out only ONE exchange per pass. During each pass, the maximum is found and slotted into place. It takes $n-1$ passes to sort the entire collection and hence the time complexity is $O(n^2)$ but since it swaps only one during each pass it performs faster than regular bubble sort."
   ]
  },
  {
   "cell_type": "code",
   "execution_count": 75,
   "metadata": {},
   "outputs": [],
   "source": [
    "def selectionSort(alist):\n",
    "    ##You need n-1 passes to sort the list completely.\n",
    "    ##So start with n items (0 to n-1 indices in Python)\n",
    "    ##initialize MaxPos to 0th index and \n",
    "    for fillslot in range(len(alist)-1,0,-1):\n",
    "        positionOfMax=0\n",
    "        ##As we traverse the length of the list, \n",
    "        ##we compare each element against every other element \n",
    "        ##till we find the location of the maximum.\n",
    "        for location in range(1,fillslot+1):\n",
    "            if alist[location]>alist[positionOfMax]:\n",
    "                positionOfMax = location\n",
    "        \n",
    "        ##Since fillslot corresponds to the (n-i)th; i=1,2,3,...n-1 passes\n",
    "        ##position, fill that position with the maximum found\n",
    "        ##during the ith pass.\n",
    "        temp = alist[fillslot]\n",
    "        alist[fillslot] = alist[positionOfMax]\n",
    "        alist[positionOfMax] = temp"
   ]
  },
  {
   "cell_type": "code",
   "execution_count": 76,
   "metadata": {},
   "outputs": [
    {
     "name": "stdout",
     "output_type": "stream",
     "text": [
      "[12, 14, 20, 35, 43, 56]\n"
     ]
    }
   ],
   "source": [
    "alist2 = [43,12,56,14,20,35]\n",
    "selectionSort(alist2)\n",
    "print(alist2)"
   ]
  },
  {
   "cell_type": "markdown",
   "metadata": {},
   "source": [
    "### 2.3 Insertion Sort\n",
    "\n",
    "Again $O(n^2)$ in time complexity but each item in the list is compared against a previously sorted sublist (available to the left of the current position). The given item is compared to each item in the sublist till it's relative position is found where it is subsequently inserted. "
   ]
  },
  {
   "cell_type": "code",
   "execution_count": 84,
   "metadata": {},
   "outputs": [],
   "source": [
    "def insertionSort(alist):\n",
    "    n = len(alist)\n",
    "    for i in range(1,n):\n",
    "        currentVal = alist[i]##Let currentValue be value alist[1]\n",
    "        pos = i##position is also set to 1\n",
    "        while pos > 0 and alist[pos-1] > currentVal:\n",
    "            ##Swap the values if currentval is smaller than the one before it.\n",
    "            alist[pos] = alist[pos-1]##Shifting the value in the current pos to the previous position because it is smaller.\n",
    "            pos = pos  - 1\n",
    "        alist[pos] = currentVal     "
   ]
  },
  {
   "cell_type": "code",
   "execution_count": 85,
   "metadata": {},
   "outputs": [
    {
     "name": "stdout",
     "output_type": "stream",
     "text": [
      "[12, 14, 20, 35, 43, 56]\n"
     ]
    }
   ],
   "source": [
    "alist3 = [43,12,56,14,20,35]\n",
    "insertionSort(alist3)\n",
    "print(alist3)"
   ]
  },
  {
   "cell_type": "markdown",
   "metadata": {},
   "source": [
    "### 2.4 Shell Sort\n",
    "TO DO"
   ]
  },
  {
   "cell_type": "markdown",
   "metadata": {},
   "source": [
    "### 2.5 Merge Sort\n",
    "\n",
    "Uses divide and conquer to sort and merge a collection of items. Merge sort is a **recursive algorithm** that continually splits a list in half. If the list is empty or has one item, it is sorted by definition (the base case). If the list has more than one item, we split the list and recursively invoke a merge sort on both halves. Once the two halves are sorted, the fundamental operation, called a **merge**, is performed. Merging is the process of taking two smaller sorted lists and combining them together into a single, sorted, new list.\n",
    "\n",
    "Some essential properties of the merge sort algorithm are:\n",
    "1. It uses \"Divide and conquer\" strategy to sort a collection of items\n",
    "2. Recursive -- It recursively splits a collection of items into smaller and smaller sublists which are sorted and then merged.\n",
    "3. Stable: account for identical values of items and relative ordering of keys in case we have to sort list of tuples.\n",
    "4. Is not an \"in-place\" sorting algorithm -- Since it continuously splits a collection into smaller lists which have to be stored in memory, it's space complexity is $O(n)$.\n",
    "\n",
    "#### 2.5.1 Time and space complexity\n",
    "Since the merge sort algorithm continuosly splits a collection into smaller and smaller sub-lists till it reaches a point where you only have a single item, the time complexity associated with splitting is $O(\\log n)$. Since we also have to merge the sorted $n$ items to produce the final sorted list the time complexity of this algorithm is $O(n\\log n)$. \n"
   ]
  },
  {
   "cell_type": "code",
   "execution_count": 100,
   "metadata": {},
   "outputs": [],
   "source": [
    "def mergeSort(alist, start,end):\n",
    "    print(\"Splitting \",alist)\n",
    "    if len(alist)>1:\n",
    "        mid = len(alist)//2\n",
    "        start = 0\n",
    "        end   = len(alist)\n",
    "        ##Remove the slice operator because it is of O(k); k is the length of the slice.\n",
    "        lefthalf = alist[start:mid]\n",
    "        righthalf = alist[mid:end]\n",
    "        print(\"Left half (before) = \",lefthalf)\n",
    "        print(\"Right half (before)=\", righthalf)\n",
    "        mergeSort(lefthalf, start, end)\n",
    "        mergeSort(righthalf, start, end)\n",
    "\n",
    "        i=0\n",
    "        j=0\n",
    "        k=0\n",
    "        \n",
    "        print(\"Left half (after) = \",lefthalf)\n",
    "        print(\"Right half (after) =\", righthalf)\n",
    "        ##This is the merge part that merges the sorted results from left and right halves by updating \n",
    "        ##alist.\n",
    "        while i < len(lefthalf) and j < len(righthalf):\n",
    "            if lefthalf[i] <= righthalf[j]:##To accomodate for identical items we have the equal to sign.\n",
    "                alist[k]=lefthalf[i]\n",
    "                i=i+1\n",
    "            else:\n",
    "                alist[k]=righthalf[j]\n",
    "                j=j+1\n",
    "            k=k+1\n",
    "        ##This is to populate aList with the items remaining in lefthalf \n",
    "        while i < len(lefthalf):\n",
    "            alist[k]=lefthalf[i]\n",
    "            i=i+1\n",
    "            k=k+1\n",
    "        ##This is to populate aList with the items remaining in righthalf \n",
    "        while j < len(righthalf):\n",
    "            alist[k]=righthalf[j]\n",
    "            j=j+1\n",
    "            k=k+1\n",
    "    print(\"Merging \",alist)"
   ]
  },
  {
   "cell_type": "code",
   "execution_count": 123,
   "metadata": {},
   "outputs": [
    {
     "name": "stdout",
     "output_type": "stream",
     "text": [
      "Splitting  [54, 26, 93, 17, 77, 31, 44, 55, 20]\n",
      "Left half (before) =  [54, 26, 93, 17]\n",
      "Right half (before)= [77, 31, 44, 55, 20]\n",
      "Splitting  [54, 26, 93, 17]\n",
      "Left half (before) =  [54, 26]\n",
      "Right half (before)= [93, 17]\n",
      "Splitting  [54, 26]\n",
      "Left half (before) =  [54]\n",
      "Right half (before)= [26]\n",
      "Splitting  [54]\n",
      "Merging  [54]\n",
      "Splitting  [26]\n",
      "Merging  [26]\n",
      "Left half (after) =  [54]\n",
      "Right half (after) = [26]\n",
      "Merging  [26, 54]\n",
      "Splitting  [93, 17]\n",
      "Left half (before) =  [93]\n",
      "Right half (before)= [17]\n",
      "Splitting  [93]\n",
      "Merging  [93]\n",
      "Splitting  [17]\n",
      "Merging  [17]\n",
      "Left half (after) =  [93]\n",
      "Right half (after) = [17]\n",
      "Merging  [17, 93]\n",
      "Left half (after) =  [26, 54]\n",
      "Right half (after) = [17, 93]\n",
      "Merging  [17, 26, 54, 93]\n",
      "Splitting  [77, 31, 44, 55, 20]\n",
      "Left half (before) =  [77, 31]\n",
      "Right half (before)= [44, 55, 20]\n",
      "Splitting  [77, 31]\n",
      "Left half (before) =  [77]\n",
      "Right half (before)= [31]\n",
      "Splitting  [77]\n",
      "Merging  [77]\n",
      "Splitting  [31]\n",
      "Merging  [31]\n",
      "Left half (after) =  [77]\n",
      "Right half (after) = [31]\n",
      "Merging  [31, 77]\n",
      "Splitting  [44, 55, 20]\n",
      "Left half (before) =  [44]\n",
      "Right half (before)= [55, 20]\n",
      "Splitting  [44]\n",
      "Merging  [44]\n",
      "Splitting  [55, 20]\n",
      "Left half (before) =  [55]\n",
      "Right half (before)= [20]\n",
      "Splitting  [55]\n",
      "Merging  [55]\n",
      "Splitting  [20]\n",
      "Merging  [20]\n",
      "Left half (after) =  [55]\n",
      "Right half (after) = [20]\n",
      "Merging  [20, 55]\n",
      "Left half (after) =  [44]\n",
      "Right half (after) = [20, 55]\n",
      "Merging  [20, 44, 55]\n",
      "Left half (after) =  [31, 77]\n",
      "Right half (after) = [20, 44, 55]\n",
      "Merging  [20, 31, 44, 55, 77]\n",
      "Left half (after) =  [17, 26, 54, 93]\n",
      "Right half (after) = [20, 31, 44, 55, 77]\n",
      "Merging  [17, 20, 26, 31, 44, 54, 55, 77, 93]\n",
      "End:  0.013964653015136719\n",
      "[17, 20, 26, 31, 44, 54, 55, 77, 93]\n"
     ]
    }
   ],
   "source": [
    "alist = [54,26,93,17,77,31,44,55,20]\n",
    "\n",
    "start = 0\n",
    "end = len(alist)\n",
    "startt = time()\n",
    "mergeSort(alist, start, end)\n",
    "print('End: ', time()-startt)\n",
    "print(alist)"
   ]
  },
  {
   "cell_type": "markdown",
   "metadata": {},
   "source": [
    "### 2.6 Quick Sort\n",
    "Builds on merge sort without the additional memory requirment. Instead of splitting the list at the midpoint into multiple sublists that require storage, quick sort tries to find an optimal **pivot** point to split the list into smaller sublists (that are already partially sorted as part of the partitioning or splitting process). The quick sort function is then recursively called to further sort these sublists. The selection of the split point is key to the performance of this algorithm. In the current implementation the first value in the list is taken as the split point. However since a split point should ideally be located at the center of the list, for a semi-sorted list picking the first (smallest) value or last (largest) value as a pivot or split point can greatly decrease the efficiency of this algorithm. \n",
    "\n",
    "In the best case the time complexity of this algorithm is $O(n\\log n)$ but in the worst case (described above) it is $O(n^2)$."
   ]
  },
  {
   "cell_type": "code",
   "execution_count": 131,
   "metadata": {},
   "outputs": [],
   "source": [
    "##Quick Sort algorithm.\n",
    "def quickSort(alist,first,last):\n",
    "    print(first,last)\n",
    "    if first < last:##Last can change here based on the splitpoint.\n",
    "        ##To find the split point to be used to partition the list,\n",
    "        ##supply the list the start and end positions of the list. \n",
    "        splitpoint = partition(alist,first,last)\n",
    "        \n",
    "        ##Split the list at it's splitpoint and \n",
    "        ##recursively call QuickSort to sort the sublists\n",
    "        quickSort(alist, first, splitpoint-1)\n",
    "        quickSort(alist, splitpoint+1, last)\n",
    "\n",
    "def partition(alist,first,last):\n",
    "    \n",
    "    ##Choose an appropriate split value. In this implementation, the first\n",
    "    ##value of the list is chosen as the split value.\n",
    "    #split = alist[first]\n",
    "    ##Choose median of three as the split value\n",
    "    split = pickMedian([alist[first], alist[len(alist)//2], alist[last]])\n",
    "    print(split)\n",
    "    ##Flag to indicate that the pivot or split point location has been found.\n",
    "    done = False\n",
    "    left  = first + 1\n",
    "    right = last\n",
    "    \n",
    "    ##Start iterating\n",
    "    while not done:\n",
    "        ##As long as the leftmark is smaller than the rightmark and the split value is \n",
    "        ##larger than the value corresponding to the leftmark, keep incrementing leftmark till we\n",
    "        ##encounter a value that is larger than our pivot value.\n",
    "        while left <= right and alist[left] <= split:\n",
    "            left = left + 1\n",
    "        ##As long as the rightmark is greater than the leftmark and the split value is \n",
    "        ##smaller than the value corresponding to the rightmark, keep decrementing rightmark till we\n",
    "        ##encounter a value that is smaller than our pivot value.\n",
    "        while alist[right] >= split and right >= left:\n",
    "            right = right-1\n",
    "        print(alist[left],alist[right])\n",
    "        if right < left:##We found the splitvalue= rightmark\n",
    "            done = True\n",
    "        else:\n",
    "            ##Swap the leftmark and rightmark values and proceed.\n",
    "            temp = alist[left]\n",
    "            alist[left] = alist[right]\n",
    "            alist[right] = temp\n",
    "    \n",
    "    ##Once we've found our split point, swap the pivot value (first value in the list here) with the rightmark value.\n",
    "    ##This ensures that all values to the left of the pivot point are smaller than the pivot value\n",
    "    ##and all values to the right of the pivot value are larger than it.\n",
    "    temp = alist[first]\n",
    "    alist[first] = alist[right]\n",
    "    alist[right]= temp\n",
    "    \n",
    "    return right  \n",
    "\n",
    "##Median of three\n",
    "def pickMedian(l):\n",
    "    \n",
    "    ##Use bubble sort to sort the values first: O(n^2)\n",
    "    print('Before', l)\n",
    "    n = len(l)-1\n",
    "    for passes in range(n,0,-1):\n",
    "        for j in range(passes):\n",
    "            if l[j] >= l[j+1]:\n",
    "                temp = l[j+1]\n",
    "                l[j+1] = l[j]\n",
    "                l[j] = temp\n",
    "    print('After',l)\n",
    "    return l[len(l)//2]"
   ]
  },
  {
   "cell_type": "code",
   "execution_count": 132,
   "metadata": {},
   "outputs": [
    {
     "name": "stdout",
     "output_type": "stream",
     "text": [
      "0 8\n",
      "Before [54, 77, 20]\n",
      "After [20, 54, 77]\n",
      "54\n",
      "93 20\n",
      "77 44\n",
      "77 31\n",
      "0 4\n",
      "Before [31, 44, 44]\n",
      "After [31, 44, 44]\n",
      "44\n",
      "54 44\n",
      "0 3\n",
      "Before [44, 31, 17]\n",
      "After [17, 31, 44]\n",
      "31\n",
      "31 17\n",
      "0 2\n",
      "Before [17, 31, 20]\n",
      "After [17, 20, 31]\n",
      "20\n",
      "26 17\n",
      "0 -1\n",
      "1 2\n",
      "Before [26, 31, 20]\n",
      "After [20, 26, 31]\n",
      "26\n",
      "44 20\n",
      "1 1\n",
      "3 2\n",
      "4 3\n",
      "5 4\n",
      "6 8\n",
      "Before [77, 31, 93]\n",
      "After [31, 77, 93]\n",
      "77\n",
      "93 55\n",
      "6 6\n",
      "8 8\n",
      "End 0.0019943714141845703\n",
      "[17, 20, 26, 44, 31, 54, 55, 77, 93]\n"
     ]
    }
   ],
   "source": [
    "alist = [54,26,93,17,77,31,44,55,20]\n",
    "first = 0\n",
    "last  = len(alist)-1\n",
    "start = time()\n",
    "quickSort(alist, first, last)\n",
    "print('End', time()-start)\n",
    "print(alist)"
   ]
  }
 ],
 "metadata": {
  "kernelspec": {
   "display_name": "Python 3",
   "language": "python",
   "name": "python3"
  },
  "language_info": {
   "codemirror_mode": {
    "name": "ipython",
    "version": 3
   },
   "file_extension": ".py",
   "mimetype": "text/x-python",
   "name": "python",
   "nbconvert_exporter": "python",
   "pygments_lexer": "ipython3",
   "version": "3.7.6"
  }
 },
 "nbformat": 4,
 "nbformat_minor": 4
}
